{
 "cells": [
  {
   "cell_type": "markdown",
   "metadata": {},
   "source": [
    "## 載入套件"
   ]
  },
  {
   "cell_type": "code",
   "execution_count": 1,
   "metadata": {},
   "outputs": [],
   "source": [
    "import pandas as pd\n",
    "import numpy as np\n",
    "import warnings\n",
    "from pandas.core.common import SettingWithCopyWarning\n",
    "warnings.simplefilter(action=\"ignore\", category=SettingWithCopyWarning)\n",
    "\n",
    "import nltk\n",
    "from nltk.tokenize import word_tokenize\n",
    "from nltk.corpus import wordnet\n",
    "from sklearn.model_selection import train_test_split\n",
    "from keras.preprocessing import sequence\n",
    "from keras.preprocessing.text import Tokenizer\n",
    "from keras.models import Sequential\n",
    "from keras.layers import Dense\n",
    "from keras.layers import Conv1D, MaxPooling1D, Embedding\n",
    "from keras.layers.core import Dense,Dropout,Activation,Flatten\n",
    "from keras.layers.embeddings import Embedding\n",
    "from keras.layers.recurrent import LSTM\n"
   ]
  },
  {
   "cell_type": "markdown",
   "metadata": {},
   "source": [
    "## 資料前處理"
   ]
  },
  {
   "cell_type": "code",
   "execution_count": 2,
   "metadata": {},
   "outputs": [
    {
     "data": {
      "text/html": [
       "<div>\n",
       "<style scoped>\n",
       "    .dataframe tbody tr th:only-of-type {\n",
       "        vertical-align: middle;\n",
       "    }\n",
       "\n",
       "    .dataframe tbody tr th {\n",
       "        vertical-align: top;\n",
       "    }\n",
       "\n",
       "    .dataframe thead th {\n",
       "        text-align: right;\n",
       "    }\n",
       "</style>\n",
       "<table border=\"1\" class=\"dataframe\">\n",
       "  <thead>\n",
       "    <tr style=\"text-align: right;\">\n",
       "      <th></th>\n",
       "      <th>text</th>\n",
       "      <th>stars</th>\n",
       "    </tr>\n",
       "  </thead>\n",
       "  <tbody>\n",
       "    <tr>\n",
       "      <th>0</th>\n",
       "      <td>My wife took me here on my birthday for breakf...</td>\n",
       "      <td>1</td>\n",
       "    </tr>\n",
       "    <tr>\n",
       "      <th>1</th>\n",
       "      <td>I have no idea why some people give bad review...</td>\n",
       "      <td>1</td>\n",
       "    </tr>\n",
       "    <tr>\n",
       "      <th>2</th>\n",
       "      <td>love the gyro plate. Rice is so good and I als...</td>\n",
       "      <td>1</td>\n",
       "    </tr>\n",
       "    <tr>\n",
       "      <th>3</th>\n",
       "      <td>Rosie, Dakota, and I LOVE Chaparral Dog Park!!...</td>\n",
       "      <td>1</td>\n",
       "    </tr>\n",
       "    <tr>\n",
       "      <th>4</th>\n",
       "      <td>General Manager Scott Petello is a good egg!!!...</td>\n",
       "      <td>1</td>\n",
       "    </tr>\n",
       "    <tr>\n",
       "      <th>...</th>\n",
       "      <td>...</td>\n",
       "      <td>...</td>\n",
       "    </tr>\n",
       "    <tr>\n",
       "      <th>9995</th>\n",
       "      <td>First visit...Had lunch here today - used my G...</td>\n",
       "      <td>0</td>\n",
       "    </tr>\n",
       "    <tr>\n",
       "      <th>9996</th>\n",
       "      <td>Should be called house of deliciousness!\\n\\nI ...</td>\n",
       "      <td>1</td>\n",
       "    </tr>\n",
       "    <tr>\n",
       "      <th>9997</th>\n",
       "      <td>I recently visited Olive and Ivy for business ...</td>\n",
       "      <td>1</td>\n",
       "    </tr>\n",
       "    <tr>\n",
       "      <th>9998</th>\n",
       "      <td>My nephew just moved to Scottsdale recently so...</td>\n",
       "      <td>0</td>\n",
       "    </tr>\n",
       "    <tr>\n",
       "      <th>9999</th>\n",
       "      <td>4-5 locations.. all 4.5 star average.. I think...</td>\n",
       "      <td>1</td>\n",
       "    </tr>\n",
       "  </tbody>\n",
       "</table>\n",
       "<p>10000 rows × 2 columns</p>\n",
       "</div>"
      ],
      "text/plain": [
       "                                                   text  stars\n",
       "0     My wife took me here on my birthday for breakf...      1\n",
       "1     I have no idea why some people give bad review...      1\n",
       "2     love the gyro plate. Rice is so good and I als...      1\n",
       "3     Rosie, Dakota, and I LOVE Chaparral Dog Park!!...      1\n",
       "4     General Manager Scott Petello is a good egg!!!...      1\n",
       "...                                                 ...    ...\n",
       "9995  First visit...Had lunch here today - used my G...      0\n",
       "9996  Should be called house of deliciousness!\\n\\nI ...      1\n",
       "9997  I recently visited Olive and Ivy for business ...      1\n",
       "9998  My nephew just moved to Scottsdale recently so...      0\n",
       "9999  4-5 locations.. all 4.5 star average.. I think...      1\n",
       "\n",
       "[10000 rows x 2 columns]"
      ]
     },
     "execution_count": 2,
     "metadata": {},
     "output_type": "execute_result"
    }
   ],
   "source": [
    "#讀取csv檔保留“text”,“stars” 兩個欄位\n",
    "df = pd.read_csv('yelp.csv')\n",
    "cols = ['text','stars']\n",
    "df = df[cols]\n",
    "df.head()\n",
    "## 將stars欄位內 >= 4 轉成 1, 其餘轉成0\n",
    "df['stars'] = [0 if star < 4 else 1 for star in df['stars']]\n",
    "df"
   ]
  },
  {
   "cell_type": "code",
   "execution_count": 3,
   "metadata": {},
   "outputs": [
    {
     "data": {
      "text/plain": [
       "['My',\n",
       " 'wife',\n",
       " 'took',\n",
       " 'me',\n",
       " 'here',\n",
       " 'on',\n",
       " 'my',\n",
       " 'birthday',\n",
       " 'for',\n",
       " 'breakfast',\n",
       " 'and',\n",
       " 'it',\n",
       " 'was',\n",
       " 'excellent',\n",
       " '.',\n",
       " 'The',\n",
       " 'weather',\n",
       " 'was',\n",
       " 'perfect',\n",
       " 'which',\n",
       " 'made',\n",
       " 'sitting',\n",
       " 'outside',\n",
       " 'overlooking',\n",
       " 'their',\n",
       " 'grounds',\n",
       " 'an',\n",
       " 'absolute',\n",
       " 'pleasure',\n",
       " '.',\n",
       " 'Our',\n",
       " 'waitress',\n",
       " 'was',\n",
       " 'excellent',\n",
       " 'and',\n",
       " 'our',\n",
       " 'food',\n",
       " 'arrived',\n",
       " 'quickly',\n",
       " 'on',\n",
       " 'the',\n",
       " 'semi-busy',\n",
       " 'Saturday',\n",
       " 'morning',\n",
       " '.',\n",
       " 'It',\n",
       " 'looked',\n",
       " 'like',\n",
       " 'the',\n",
       " 'place',\n",
       " 'fills',\n",
       " 'up',\n",
       " 'pretty',\n",
       " 'quickly',\n",
       " 'so',\n",
       " 'the',\n",
       " 'earlier',\n",
       " 'you',\n",
       " 'get',\n",
       " 'here',\n",
       " 'the',\n",
       " 'better',\n",
       " '.',\n",
       " 'Do',\n",
       " 'yourself',\n",
       " 'a',\n",
       " 'favor',\n",
       " 'and',\n",
       " 'get',\n",
       " 'their',\n",
       " 'Bloody',\n",
       " 'Mary',\n",
       " '.',\n",
       " 'It',\n",
       " 'was',\n",
       " 'phenomenal',\n",
       " 'and',\n",
       " 'simply',\n",
       " 'the',\n",
       " 'best',\n",
       " 'I',\n",
       " \"'ve\",\n",
       " 'ever',\n",
       " 'had',\n",
       " '.',\n",
       " 'I',\n",
       " \"'m\",\n",
       " 'pretty',\n",
       " 'sure',\n",
       " 'they',\n",
       " 'only',\n",
       " 'use',\n",
       " 'ingredients',\n",
       " 'from',\n",
       " 'their',\n",
       " 'garden',\n",
       " 'and',\n",
       " 'blend',\n",
       " 'them',\n",
       " 'fresh',\n",
       " 'when',\n",
       " 'you',\n",
       " 'order',\n",
       " 'it',\n",
       " '.',\n",
       " 'It',\n",
       " 'was',\n",
       " 'amazing',\n",
       " '.',\n",
       " 'While',\n",
       " 'EVERYTHING',\n",
       " 'on',\n",
       " 'the',\n",
       " 'menu',\n",
       " 'looks',\n",
       " 'excellent',\n",
       " ',',\n",
       " 'I',\n",
       " 'had',\n",
       " 'the',\n",
       " 'white',\n",
       " 'truffle',\n",
       " 'scrambled',\n",
       " 'eggs',\n",
       " 'vegetable',\n",
       " 'skillet',\n",
       " 'and',\n",
       " 'it',\n",
       " 'was',\n",
       " 'tasty',\n",
       " 'and',\n",
       " 'delicious',\n",
       " '.',\n",
       " 'It',\n",
       " 'came',\n",
       " 'with',\n",
       " '2',\n",
       " 'pieces',\n",
       " 'of',\n",
       " 'their',\n",
       " 'griddled',\n",
       " 'bread',\n",
       " 'with',\n",
       " 'was',\n",
       " 'amazing',\n",
       " 'and',\n",
       " 'it',\n",
       " 'absolutely',\n",
       " 'made',\n",
       " 'the',\n",
       " 'meal',\n",
       " 'complete',\n",
       " '.',\n",
       " 'It',\n",
       " 'was',\n",
       " 'the',\n",
       " 'best',\n",
       " '``',\n",
       " 'toast',\n",
       " \"''\",\n",
       " 'I',\n",
       " \"'ve\",\n",
       " 'ever',\n",
       " 'had',\n",
       " '.',\n",
       " 'Anyway',\n",
       " ',',\n",
       " 'I',\n",
       " 'ca',\n",
       " \"n't\",\n",
       " 'wait',\n",
       " 'to',\n",
       " 'go',\n",
       " 'back',\n",
       " '!']"
      ]
     },
     "execution_count": 3,
     "metadata": {},
     "output_type": "execute_result"
    }
   ],
   "source": [
    "## 將text欄位內的文字利用分割符號切割\n",
    "def tokenize(text):\n",
    "    tokens = word_tokenize(text)\n",
    "    return tokens\n",
    "\n",
    "for i, line in enumerate(df['text']):\n",
    "    df['text'][i] = tokenize(line)\n",
    "df['text'][0]"
   ]
  },
  {
   "cell_type": "code",
   "execution_count": 4,
   "metadata": {},
   "outputs": [],
   "source": [
    "## 去除停頓詞和標點符號\n",
    "def stopword(text):\n",
    "    lower = [word.lower() for word in text]\n",
    "    stopword = nltk.corpus.stopwords.words('english')\n",
    "    no_stopwords = [word for word in lower if word not in stopword]\n",
    "    no_alpha = [word for word in no_stopwords if word.isalpha()]\n",
    "    return no_alpha\n",
    "for i, line in enumerate(df['text']):\n",
    "    df['text'][i] = stopword(line)"
   ]
  },
  {
   "cell_type": "code",
   "execution_count": 5,
   "metadata": {},
   "outputs": [],
   "source": [
    "## 去除詞幹\n",
    "def get_wordnet_pos(tag):\n",
    "    if tag.startswith('J'):\n",
    "        return wordnet.ADJ\n",
    "    elif tag.startswith('V'):\n",
    "        return wordnet.VERB\n",
    "    elif tag.startswith('N'):\n",
    "        return wordnet.NOUN\n",
    "    elif tag.startswith('R'):\n",
    "        return wordnet.ADV\n",
    "    else:\n",
    "        return None\n",
    "def clean_stem(text):\n",
    "    lemma_sent = []\n",
    "    wordnetLemmatizer = nltk.WordNetLemmatizer()\n",
    "    tagged_sent = nltk.pos_tag(text)\n",
    "    for tag in tagged_sent:\n",
    "        wordnet_pos = get_wordnet_pos(tag[1]) or wordnet.NOUN\n",
    "        lemma_sent.append(wordnetLemmatizer.lemmatize(tag[0], pos=wordnet_pos))\n",
    "    return lemma_sent\n",
    "for i, line in enumerate(df['text']):\n",
    "    df['text'][i] = ' '.join(clean_stem(line))"
   ]
  },
  {
   "cell_type": "code",
   "execution_count": 6,
   "metadata": {},
   "outputs": [],
   "source": [
    "X = df['text']\n",
    "y = df['stars']"
   ]
  },
  {
   "cell_type": "code",
   "execution_count": 7,
   "metadata": {},
   "outputs": [],
   "source": [
    "# 將yelp.csv的資料切成兩部分，80%為train，20%為test\n",
    "Ｘ_train, X_test, y_train,y_test = train_test_split(X, y, test_size = 0.2)"
   ]
  },
  {
   "cell_type": "code",
   "execution_count": 8,
   "metadata": {},
   "outputs": [],
   "source": [
    "# 使用Tokenizer模組建立token，建立一個3800字的字典\n",
    "tokenizer = Tokenizer(num_words=3800)\n",
    "\n",
    "# 讀取所有訓練集資料，依照每個英文字在訓練資料出現的次數進行排序(頻率)，\n",
    "# #前3800名的英文單字會加進字典中\n",
    "tokenizer.fit_on_texts(X_train)  \n",
    "\n",
    "# 透過texts_to_sequences將訓練和測試集資料中的文字轉換為數字list\n",
    "X_train_sequence = tokenizer.texts_to_sequences(X_train)\n",
    "X_test_sequence = tokenizer.texts_to_sequences(X_test)\n",
    "\n",
    "# 截長補短\n",
    "# 長度小於380的，前面的數字補 0，長度大於380的，截去前面的數字 。\n",
    "x_train = sequence.pad_sequences(X_train_sequence, maxlen=380)\n",
    "x_test = sequence.pad_sequences(X_test_sequence, maxlen=380)"
   ]
  },
  {
   "cell_type": "markdown",
   "metadata": {},
   "source": [
    "### 畫圖function"
   ]
  },
  {
   "cell_type": "code",
   "execution_count": 9,
   "metadata": {},
   "outputs": [],
   "source": [
    "# 宣告 function plot出訓練過程中的Accuracy與Loss值變化\n",
    "import matplotlib.pyplot as plt\n",
    "\n",
    "def show_train_history(train, val,y_label,title):\n",
    "    plt.figure()\n",
    "    plt.plot(train_history.history[train])\n",
    "    plt.plot(train_history.history[val])\n",
    "    plt.title(title)\n",
    "    plt.xlabel(\"Epoch\")\n",
    "    plt.ylabel(y_label)\n",
    "    plt.legend([\"train\", \"validation\"], loc=\"upper left\")\n",
    "    plt.show()"
   ]
  },
  {
   "cell_type": "markdown",
   "metadata": {},
   "source": [
    "## 建模"
   ]
  },
  {
   "cell_type": "markdown",
   "metadata": {},
   "source": [
    "### CNN"
   ]
  },
  {
   "cell_type": "code",
   "execution_count": 10,
   "metadata": {},
   "outputs": [
    {
     "name": "stdout",
     "output_type": "stream",
     "text": [
      "Model: \"sequential\"\n",
      "_________________________________________________________________\n",
      "Layer (type)                 Output Shape              Param #   \n",
      "=================================================================\n",
      "embedding (Embedding)        (None, 380, 32)           121600    \n",
      "_________________________________________________________________\n",
      "dropout (Dropout)            (None, 380, 32)           0         \n",
      "_________________________________________________________________\n",
      "conv1d (Conv1D)              (None, 380, 32)           3104      \n",
      "_________________________________________________________________\n",
      "dropout_1 (Dropout)          (None, 380, 32)           0         \n",
      "_________________________________________________________________\n",
      "max_pooling1d (MaxPooling1D) (None, 190, 32)           0         \n",
      "_________________________________________________________________\n",
      "conv1d_1 (Conv1D)            (None, 190, 64)           8256      \n",
      "_________________________________________________________________\n",
      "dropout_2 (Dropout)          (None, 190, 64)           0         \n",
      "_________________________________________________________________\n",
      "max_pooling1d_1 (MaxPooling1 (None, 63, 64)            0         \n",
      "_________________________________________________________________\n",
      "flatten (Flatten)            (None, 4032)              0         \n",
      "_________________________________________________________________\n",
      "dropout_3 (Dropout)          (None, 4032)              0         \n",
      "_________________________________________________________________\n",
      "dense (Dense)                (None, 250)               1008250   \n",
      "_________________________________________________________________\n",
      "dropout_4 (Dropout)          (None, 250)               0         \n",
      "_________________________________________________________________\n",
      "dense_1 (Dense)              (None, 1)                 251       \n",
      "=================================================================\n",
      "Total params: 1,141,461\n",
      "Trainable params: 1,141,461\n",
      "Non-trainable params: 0\n",
      "_________________________________________________________________\n"
     ]
    }
   ],
   "source": [
    "# 建立模型\n",
    "modelCNN = Sequential()\n",
    "\n",
    "# 輸出的維度是32,希望將數字list轉為32維度的向量\n",
    "# 輸入的維度是3800,也就是我們之前建立的字典3800字\n",
    "# 數字list截長補短後都是380個數字\n",
    "modelCNN.add(Embedding(output_dim=32, input_dim=3800, input_length=380))\n",
    "\n",
    "# 隨機在神經網路中放棄20%的神經元，避免overfitting\n",
    "modelCNN.add(Dropout(0.2))\n",
    "\n",
    "# 建立卷積層1(Convolution1)\n",
    "# 隨機產生32個filter weight\n",
    "# 濾鏡大小3\n",
    "modelCNN.add(Conv1D(filters=32,padding='same', activation='relu', kernel_size=3))\n",
    "modelCNN .add(Dropout(0.2))\n",
    "\n",
    "# 建立池化層1(Pooling1)\n",
    "modelCNN.add(MaxPooling1D(pool_size=2))\n",
    "\n",
    "\n",
    "# 建立卷積層2(Convolution2)\n",
    "modelCNN.add(Conv1D(filters=64,padding='same', activation='relu', kernel_size=4))\n",
    "modelCNN .add(Dropout(0.2))\n",
    "\n",
    "# 建立池化層2(Pooling2)\n",
    "modelCNN.add(MaxPooling1D(pool_size=3))\n",
    "\n",
    "\n",
    "# 建立平坦層\n",
    "modelCNN.add(Flatten())\n",
    "modelCNN.add(Dropout(0.2))\n",
    "\n",
    "# 建立隱藏層 (250個神經元)\n",
    "modelCNN.add(Dense(250, activation='relu'))\n",
    "modelCNN.add(Dropout(0.2))\n",
    "\n",
    "# 建立輸出層 (1個神經元)\n",
    "modelCNN.add(Dense(1, activation='sigmoid'))\n",
    "\n",
    "# 查看模型摘要\n",
    "modelCNN.summary()"
   ]
  },
  {
   "cell_type": "code",
   "execution_count": 11,
   "metadata": {},
   "outputs": [
    {
     "name": "stdout",
     "output_type": "stream",
     "text": [
      "Epoch 1/5\n",
      "26/26 - 5s - loss: 0.6305 - accuracy: 0.6714 - precision: 0.6826 - val_loss: 0.6232 - val_accuracy: 0.6969 - val_precision: 0.6969\n",
      "Epoch 2/5\n",
      "26/26 - 4s - loss: 0.6194 - accuracy: 0.6811 - precision: 0.6811 - val_loss: 0.6182 - val_accuracy: 0.6969 - val_precision: 0.6969\n",
      "Epoch 3/5\n",
      "26/26 - 4s - loss: 0.5422 - accuracy: 0.7116 - precision: 0.7059 - val_loss: 0.4808 - val_accuracy: 0.8044 - val_precision: 0.8234\n",
      "Epoch 4/5\n",
      "26/26 - 5s - loss: 0.3851 - accuracy: 0.8380 - precision: 0.8641 - val_loss: 0.4310 - val_accuracy: 0.8150 - val_precision: 0.8247\n",
      "Epoch 5/5\n",
      "26/26 - 5s - loss: 0.2906 - accuracy: 0.8863 - precision: 0.9103 - val_loss: 0.4356 - val_accuracy: 0.8125 - val_precision: 0.8528\n"
     ]
    },
    {
     "data": {
      "image/png": "[encoded data removed]",
      "text/plain": [
       "<Figure size 432x288 with 1 Axes>"
      ]
     },
     "metadata": {
      "needs_background": "light"
     },
     "output_type": "display_data"
    },
    {
     "data": {
      "image/png": "[encoded data removed]",
      "text/plain": [
       "<Figure size 432x288 with 1 Axes>"
      ]
     },
     "metadata": {
      "needs_background": "light"
     },
     "output_type": "display_data"
    }
   ],
   "source": [
    "# 定義訓練模型\n",
    "modelCNN.compile(loss=\"binary_crossentropy\", optimizer=\"adam\",metrics=[\"accuracy\",\"Precision\"])\n",
    "\n",
    "\n",
    "# 模型訓練\n",
    "train_history = modelCNN.fit(x_train,y_train,\n",
    "         epochs=5, \n",
    "         batch_size=250,\n",
    "         verbose=2,\n",
    "         validation_split=0.2)\n",
    "    \n",
    "# 畫出accuracy圖\n",
    "show_train_history('accuracy', 'val_accuracy', \"Accuracy\", \"CNN Accuracy History\")\n",
    "show_train_history('loss', 'val_loss', \"Loss\", \"CNN Loss History\")\n"
   ]
  },
  {
   "cell_type": "code",
   "execution_count": 12,
   "metadata": {},
   "outputs": [
    {
     "name": "stdout",
     "output_type": "stream",
     "text": [
      "63/63 [==============================] - 0s 5ms/step - loss: 0.4342 - accuracy: 0.8140 - precision: 0.8514\n",
      "CNN Accuracy： [0.43418076634407043, 0.8140000104904175, 0.8514167070388794]\n"
     ]
    }
   ],
   "source": [
    "# 準確率\n",
    "scores = modelCNN.evaluate(x_test, y_test,verbose=1)\n",
    "print(\"CNN Accuracy：\",scores) "
   ]
  },
  {
   "cell_type": "code",
   "execution_count": 13,
   "metadata": {},
   "outputs": [],
   "source": [
    "import numpy as np\n",
    "# pred = modelCNN.predict(x_test)\n",
    "y_pred = (modelCNN.predict(x_test) > 0.5).astype(\"int32\")\n",
    "# print(y_pred)"
   ]
  },
  {
   "cell_type": "code",
   "execution_count": 14,
   "metadata": {},
   "outputs": [
    {
     "name": "stdout",
     "output_type": "stream",
     "text": [
      "Area under test roc : 0.7675434410419016\n",
      "Testing Accuracy : 0.814\n",
      "Testing Precision : 0.8514167242570836\n",
      "Testing Recall : 0.8869690424766019\n",
      "Testing f1-score : 0.8688293370944994\n"
     ]
    }
   ],
   "source": [
    "from sklearn.metrics import accuracy_score\n",
    "from sklearn.metrics import precision_score\n",
    "from sklearn.metrics import recall_score\n",
    "from sklearn.metrics import f1_score\n",
    "from sklearn.metrics import roc_auc_score, roc_curve,auc\n",
    "# make prediction\n",
    "# y_pred = modelCNN.predict_classes(x_test)\n",
    "# pred = modelCNN.predict(x_test)\n",
    "# y_pred = np.argmax(pred,axis=1)\n",
    "# cm = confusion_matrix(y_test, y_pred)\n",
    "# print('condusion matrix:\\n',cm)\n",
    "# sns.heatmap(cm, annot = True)\n",
    "# Accuracy,Precision,Recall,F1-score\n",
    "print('Area under test roc :',roc_auc_score(y_test,y_pred))\n",
    "print(\"Testing Accuracy :\", accuracy_score(y_test, y_pred))\n",
    "print(\"Testing Precision :\", precision_score(y_test, y_pred))\n",
    "print(\"Testing Recall :\", recall_score(y_test, y_pred))\n",
    "print(\"Testing f1-score :\", f1_score(y_test, y_pred))"
   ]
  },
  {
   "cell_type": "markdown",
   "metadata": {},
   "source": [
    "### LSTM"
   ]
  },
  {
   "cell_type": "code",
   "execution_count": 15,
   "metadata": {},
   "outputs": [
    {
     "name": "stdout",
     "output_type": "stream",
     "text": [
      "[[0]\n",
      " [0]\n",
      " [1]\n",
      " ...\n",
      " [1]\n",
      " [1]\n",
      " [1]]\n"
     ]
    }
   ],
   "source": [
    "# print(y_test)\n",
    "print(y_pred)"
   ]
  },
  {
   "cell_type": "code",
   "execution_count": 16,
   "metadata": {},
   "outputs": [
    {
     "name": "stdout",
     "output_type": "stream",
     "text": [
      "Model: \"sequential_1\"\n",
      "_________________________________________________________________\n",
      "Layer (type)                 Output Shape              Param #   \n",
      "=================================================================\n",
      "embedding_1 (Embedding)      (None, 380, 32)           121600    \n",
      "_________________________________________________________________\n",
      "dropout_5 (Dropout)          (None, 380, 32)           0         \n",
      "_________________________________________________________________\n",
      "lstm (LSTM)                  (None, 32)                8320      \n",
      "_________________________________________________________________\n",
      "dense_2 (Dense)              (None, 256)               8448      \n",
      "_________________________________________________________________\n",
      "dropout_6 (Dropout)          (None, 256)               0         \n",
      "_________________________________________________________________\n",
      "dense_3 (Dense)              (None, 1)                 257       \n",
      "=================================================================\n",
      "Total params: 138,625\n",
      "Trainable params: 138,625\n",
      "Non-trainable params: 0\n",
      "_________________________________________________________________\n"
     ]
    }
   ],
   "source": [
    "# 建立模型\n",
    "modelLSTM = Sequential()\n",
    "\n",
    "# 輸出的維度是32,希望將數字list轉為32維度的向量\n",
    "# 輸入的維度是3800,也就是我們之前建立的字典3800字\n",
    "# 數字list截長補短後都是380個數字\n",
    "modelLSTM .add(Embedding(output_dim=32, input_dim=3800 ,input_length=380))\n",
    "\n",
    "# 隨機在神經網路中放棄20%的神經元，避免overfitting\n",
    "modelLSTM .add(Dropout(0.8))\n",
    "\n",
    "# 建立LSTM層 (32個神經元)\n",
    "modelLSTM .add(LSTM(32))\n",
    "\n",
    "# 建立隱藏層 (256個神經元)\n",
    "modelLSTM .add(Dense(units=256,activation='relu')) \n",
    "\n",
    "# 放棄20%的神經元，避免overfitting\n",
    "modelLSTM .add(Dropout(0.8))\n",
    "\n",
    "# 建立輸出層 (1個神經元)\n",
    "modelLSTM .add(Dense(units=1,activation='sigmoid'))\n",
    "\n",
    "# 查看模型摘要\n",
    "modelLSTM .summary()"
   ]
  },
  {
   "cell_type": "code",
   "execution_count": null,
   "metadata": {},
   "outputs": [],
   "source": []
  },
  {
   "cell_type": "code",
   "execution_count": 17,
   "metadata": {},
   "outputs": [
    {
     "name": "stdout",
     "output_type": "stream",
     "text": [
      "Epoch 1/7\n",
      "26/26 - 13s - loss: 0.6602 - accuracy: 0.6755 - precision: 0.6817 - val_loss: 0.6092 - val_accuracy: 0.6969 - val_precision: 0.6969\n",
      "Epoch 2/7\n",
      "26/26 - 9s - loss: 0.6208 - accuracy: 0.6811 - precision: 0.6811 - val_loss: 0.5998 - val_accuracy: 0.6969 - val_precision: 0.6969\n",
      "Epoch 3/7\n",
      "26/26 - 8s - loss: 0.5755 - accuracy: 0.6825 - precision: 0.6821 - val_loss: 0.5034 - val_accuracy: 0.7050 - val_precision: 0.7028\n",
      "Epoch 4/7\n",
      "26/26 - 8s - loss: 0.4712 - accuracy: 0.7805 - precision: 0.7851 - val_loss: 0.4604 - val_accuracy: 0.7906 - val_precision: 0.8679\n",
      "Epoch 5/7\n",
      "26/26 - 8s - loss: 0.3998 - accuracy: 0.8227 - precision: 0.8611 - val_loss: 0.4133 - val_accuracy: 0.8194 - val_precision: 0.8714\n",
      "Epoch 6/7\n",
      "26/26 - 8s - loss: 0.3616 - accuracy: 0.8431 - precision: 0.8734 - val_loss: 0.4083 - val_accuracy: 0.8225 - val_precision: 0.8604\n",
      "Epoch 7/7\n",
      "26/26 - 8s - loss: 0.3360 - accuracy: 0.8561 - precision: 0.8798 - val_loss: 0.4024 - val_accuracy: 0.8269 - val_precision: 0.8631\n"
     ]
    },
    {
     "data": {
      "image/png": "[encoded data removed]",
      "text/plain": [
       "<Figure size 432x288 with 1 Axes>"
      ]
     },
     "metadata": {
      "needs_background": "light"
     },
     "output_type": "display_data"
    },
    {
     "data": {
      "image/png": "[encoded data removed]",
      "text/plain": [
       "<Figure size 432x288 with 1 Axes>"
      ]
     },
     "metadata": {
      "needs_background": "light"
     },
     "output_type": "display_data"
    }
   ],
   "source": [
    "# 定義訓練模型\n",
    "# loss function 使用cross entropy\n",
    "# adam 最優化可以更快收斂\n",
    "modelLSTM.compile(loss=\"binary_crossentropy\", optimizer=\"adam\",metrics=[\"accuracy\",\"Precision\"])\n",
    "\n",
    "# 模型訓練\n",
    "train_history = modelLSTM.fit(x_train,y_train,\n",
    "         epochs=7, # 執行 7 次訓練週期\n",
    "         batch_size=250, # 每一批次訓練500筆資料\n",
    "         verbose=2, # verbose 顯示訓練過程\n",
    "         validation_split=0.2)\n",
    "\n",
    "# 畫出accuracy圖\n",
    "show_train_history('accuracy', 'val_accuracy', \"Accuracy\", \"LSTM Accuracy History\")\n",
    "show_train_history('loss', 'val_loss', \"Loss\", \"LSTM Loss History\")"
   ]
  },
  {
   "cell_type": "code",
   "execution_count": 18,
   "metadata": {},
   "outputs": [
    {
     "name": "stdout",
     "output_type": "stream",
     "text": [
      "63/63 [==============================] - 2s 30ms/step - loss: 0.3920 - accuracy: 0.8315 - precision: 0.8623\n",
      "LSTM accuracy: 0.8314999938011169\n"
     ]
    }
   ],
   "source": [
    "scores = modelLSTM.evaluate(x_test,y_test,verbose=1)\n",
    "print('LSTM accuracy:',scores[1])"
   ]
  },
  {
   "cell_type": "code",
   "execution_count": 19,
   "metadata": {},
   "outputs": [
    {
     "name": "stdout",
     "output_type": "stream",
     "text": [
      "Area under test roc : 0.7870178241714476\n",
      "Testing Accuracy : 0.8315\n",
      "Testing Precision : 0.8622589531680441\n",
      "Testing Recall : 0.9013678905687545\n",
      "Testing f1-score : 0.881379795846533\n"
     ]
    }
   ],
   "source": [
    "import numpy as np\n",
    "y_pred = (modelLSTM.predict(x_test) > 0.5).astype(\"int32\")\n",
    "# print(y_pred)\n",
    "from sklearn.metrics import accuracy_score\n",
    "from sklearn.metrics import precision_score\n",
    "from sklearn.metrics import recall_score\n",
    "from sklearn.metrics import f1_score\n",
    "from sklearn.metrics import roc_auc_score, roc_curve,auc\n",
    "print('Area under test roc :',roc_auc_score(y_test,y_pred))\n",
    "print(\"Testing Accuracy :\", accuracy_score(y_test, y_pred))\n",
    "print(\"Testing Precision :\", precision_score(y_test, y_pred))\n",
    "print(\"Testing Recall :\", recall_score(y_test, y_pred))\n",
    "print(\"Testing f1-score :\", f1_score(y_test, y_pred))"
   ]
  },
  {
   "cell_type": "code",
   "execution_count": null,
   "metadata": {},
   "outputs": [],
   "source": []
  }
 ],
 "metadata": {
  "interpreter": {
   "hash": "1dd239b1a549be878e4b7d841485d49e68e1e06cbae5c0dfbcfe9600103ca483"
  },
  "kernelspec": {
   "display_name": "Python 3",
   "language": "python",
   "name": "python3"
  },
  "language_info": {
   "codemirror_mode": {
    "name": "ipython",
    "version": 3
   },
   "file_extension": ".py",
   "mimetype": "text/x-python",
   "name": "python",
   "nbconvert_exporter": "python",
   "pygments_lexer": "ipython3",
   "version": "3.8.8"
  }
 },
 "nbformat": 4,
 "nbformat_minor": 2
}
